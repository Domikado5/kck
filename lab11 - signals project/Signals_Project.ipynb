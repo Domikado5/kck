{
 "cells": [
  {
   "cell_type": "code",
   "execution_count": 1,
   "metadata": {},
   "outputs": [],
   "source": [
    "import numpy as np\n",
    "import pandas as pd\n",
    "import os"
   ]
  },
  {
   "cell_type": "code",
   "execution_count": 2,
   "metadata": {},
   "outputs": [],
   "source": [
    "def get_label(sample: str) -> str:\n",
    "    \"\"\"Gets label of a given sample\n",
    "\n",
    "    Args:\n",
    "        sample (str): a filename\n",
    "\n",
    "    Returns:\n",
    "        str: label (M or K)\n",
    "    \"\"\"\n",
    "    return sample.split('.')[0][-1]\n",
    "\n",
    "\n",
    "samples = os.listdir('./data/')\n",
    "labels = [get_label(sample) for sample in samples]\n",
    "train = pd.DataFrame({'File' : samples, 'Label' : labels})"
   ]
  },
  {
   "cell_type": "code",
   "execution_count": 3,
   "metadata": {},
   "outputs": [],
   "source": [
    "import scipy.io.wavfile\n",
    "def predict(filename: str, male_freqs=[60, 160], female_freqs=[180, 270], iterations=5) -> str:\n",
    "    \"\"\"Predicts the gender of a given voice sample\n",
    "\n",
    "    Args:\n",
    "        filename (str): sample/\n",
    "        male_freqs (list, optional): male frequency range. Defaults to [60, 160].\n",
    "        female_freqs (list, optional): female frequency range. Defaults to [180, 270].\n",
    "        iterations (int, optinal): number of HPS iterations. Defaults to 5.\n",
    "\n",
    "    Returns:\n",
    "        str: prediction ('M' or 'K')\n",
    "    \"\"\"\n",
    "    w, signal = scipy.io.wavfile.read(f'data/{filename}')\n",
    "\n",
    "    sample_length = len(signal)/w  # length in seconds\n",
    "\n",
    "    parts = [signal[i*w:(i+1)*w] for i in range(int(sample_length))]  # each part lasts exactly one second\n",
    "\n",
    "    results = []\n",
    "\n",
    "    for part in parts:\n",
    "        hamming_window = np.hamming(len(part))\n",
    "        data = part*hamming_window\n",
    "        abs_fft = np.abs(np.fft.fft(data))/w\n",
    "        fft_r = np.copy(abs_fft)\n",
    "        for i in range(2, iterations):\n",
    "            tab = np.copy(abs_fft[::i])\n",
    "            fft_r = fft_r[:len(tab)]\n",
    "            fft_r *= tab\n",
    "        results.append(fft_r)\n",
    "\n",
    "    result = [0]*len(results[int(len(results)/2)])\n",
    "\n",
    "    for res in results:\n",
    "        result += res\n",
    "\n",
    "    if(sum(result[male_freqs[0]:male_freqs[1]]) > sum(result[female_freqs[0]:female_freqs[1]])): return 'M'\n",
    "    else: return 'K'"
   ]
  },
  {
   "cell_type": "code",
   "execution_count": 5,
   "metadata": {},
   "outputs": [
    {
     "data": {
      "text/plain": [
       "0.945054945054945"
      ]
     },
     "execution_count": 5,
     "metadata": {},
     "output_type": "execute_result"
    }
   ],
   "source": [
    "from sklearn.metrics import accuracy_score\n",
    "\n",
    "y_pred = [predict(file) for file in samples]\n",
    "accuracy_score(train['Label'], y_pred)"
   ]
  },
  {
   "cell_type": "code",
   "execution_count": 16,
   "metadata": {},
   "outputs": [],
   "source": [
    "def predict_all(dir='./data/', male_freqs=[60, 160], female_freqs=[180, 270], iterations=5):\n",
    "    global train\n",
    "    files = os.listdir(dir)\n",
    "    y_pred = [predict(file, male_freqs, female_freqs, iterations) for file in files]\n",
    "\n",
    "    return accuracy_score(train['Label'], y_pred)"
   ]
  },
  {
   "cell_type": "code",
   "execution_count": 21,
   "metadata": {},
   "outputs": [],
   "source": [
    "# grid search\n",
    "from itertools import product\n",
    "\n",
    "male_min = np.arange(40, 81, 10)\n",
    "male_max = np.arange(140, 181, 10)\n",
    "female_min = np.arange(160, 201, 10)\n",
    "female_max = np.arange(250, 291, 10)\n",
    "iterations = np.arange(2, 7, 2)\n",
    "\n",
    "combinations = list(product(male_min, male_max, female_min, female_max, iterations))\n",
    "scores = []\n",
    "\n",
    "for combination in combinations:\n",
    "    male_min, male_max, female_min, female_max, iterations = combination\n",
    "    score = predict_all(male_freqs=[male_min, male_max], female_freqs=[female_min, female_max], iterations=iterations)\n",
    "    scores.append(score)\n",
    "\n",
    "results = list(zip(combinations, scores))"
   ]
  },
  {
   "cell_type": "code",
   "execution_count": 28,
   "metadata": {},
   "outputs": [
    {
     "data": {
      "text/plain": [
       "[((60, 140, 180, 270, 6), 0.978021978021978),\n",
       " ((60, 140, 190, 280, 6), 0.978021978021978),\n",
       " ((70, 140, 180, 260, 6), 0.978021978021978),\n",
       " ((70, 140, 190, 270, 6), 0.978021978021978),\n",
       " ((70, 140, 190, 280, 6), 0.978021978021978),\n",
       " ((80, 140, 190, 260, 6), 0.978021978021978),\n",
       " ((80, 150, 180, 260, 6), 0.978021978021978),\n",
       " ((80, 150, 190, 270, 6), 0.978021978021978),\n",
       " ((80, 150, 190, 280, 6), 0.978021978021978),\n",
       " ((80, 160, 180, 270, 6), 0.978021978021978),\n",
       " ((80, 160, 180, 280, 6), 0.978021978021978),\n",
       " ((80, 180, 160, 270, 6), 0.978021978021978),\n",
       " ((80, 180, 160, 280, 6), 0.978021978021978),\n",
       " ((60, 140, 180, 260, 6), 0.967032967032967),\n",
       " ((60, 140, 180, 280, 6), 0.967032967032967)]"
      ]
     },
     "execution_count": 28,
     "metadata": {},
     "output_type": "execute_result"
    }
   ],
   "source": [
    "sorted_results = sorted(results, key=lambda x: x[1], reverse=True)\n",
    "sorted_results[:15]"
   ]
  },
  {
   "cell_type": "code",
   "execution_count": 35,
   "metadata": {},
   "outputs": [
    {
     "data": {
      "text/plain": [
       "0.978021978021978"
      ]
     },
     "execution_count": 35,
     "metadata": {},
     "output_type": "execute_result"
    }
   ],
   "source": [
    "predict_all(male_freqs=[80, 160], female_freqs=[180, 280], iterations=6)"
   ]
  },
  {
   "cell_type": "code",
   "execution_count": null,
   "metadata": {},
   "outputs": [],
   "source": []
  }
 ],
 "metadata": {
  "interpreter": {
   "hash": "e7569a15529fdc1b1c42469f30affc08eb6a35198f139c12d15ddfa133a45a66"
  },
  "kernelspec": {
   "display_name": "Python 3.9.2 64-bit",
   "language": "python",
   "name": "python3"
  },
  "language_info": {
   "codemirror_mode": {
    "name": "ipython",
    "version": 3
   },
   "file_extension": ".py",
   "mimetype": "text/x-python",
   "name": "python",
   "nbconvert_exporter": "python",
   "pygments_lexer": "ipython3",
   "version": "3.9.2"
  },
  "orig_nbformat": 4
 },
 "nbformat": 4,
 "nbformat_minor": 2
}
