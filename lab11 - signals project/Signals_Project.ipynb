{
 "cells": [
  {
   "cell_type": "code",
   "execution_count": 56,
   "metadata": {},
   "outputs": [],
   "source": [
    "import numpy as np\n",
    "import pandas as pd\n",
    "import os"
   ]
  },
  {
   "cell_type": "code",
   "execution_count": 57,
   "metadata": {},
   "outputs": [],
   "source": [
    "def get_label(sample: str) -> str:\n",
    "    \"\"\"Gets label of a given sample\n",
    "\n",
    "    Args:\n",
    "        sample (str): a filename\n",
    "\n",
    "    Returns:\n",
    "        str: label (M or K)\n",
    "    \"\"\"\n",
    "    return sample.split('.')[0][-1]\n",
    "\n",
    "\n",
    "samples = os.listdir('./data/')\n",
    "labels = [get_label(sample) for sample in samples]\n",
    "train = pd.DataFrame({'File' : samples, 'Label' : labels})"
   ]
  },
  {
   "cell_type": "code",
   "execution_count": 58,
   "metadata": {},
   "outputs": [],
   "source": [
    "import scipy.io.wavfile\n",
    "def HPS(filename: str) -> str:\n",
    "    male_freqs=[60,160]\n",
    "    female_freqs=[180,270]\n",
    "    \n",
    "    w, signal = scipy.io.wavfile.read(f'data/{filename}')\n",
    "\n",
    "    sample_length = len(signal)/w  # length in seconds\n",
    "\n",
    "    parts = [signal[i*w:(i+1)*w] for i in range(int(sample_length))]  # each part lasts exactly one second\n",
    "\n",
    "    results = []\n",
    "\n",
    "    for part in parts:\n",
    "        hamming_window = np.hamming(len(part))\n",
    "        data = part*hamming_window\n",
    "        abs_fft = np.abs(np.fft.fft(data))/w\n",
    "        fft_r = np.copy(abs_fft)\n",
    "        for i in range(2, 5):\n",
    "            tab = np.copy(abs_fft[::i])\n",
    "            fft_r = fft_r[:len(tab)]\n",
    "            fft_r *= tab\n",
    "        results.append(fft_r)\n",
    "\n",
    "    result = [0]*len(results[int(len(results)/2)])\n",
    "\n",
    "    for res in results:\n",
    "        result += res\n",
    "\n",
    "    if(sum(result[male_freqs[0]:male_freqs[1]]) > sum(result[female_freqs[0]:female_freqs[1]])): return 'M'\n",
    "    else: return 'K'"
   ]
  },
  {
   "cell_type": "code",
   "execution_count": 59,
   "metadata": {},
   "outputs": [],
   "source": [
    "y_pred = [HPS(file) for file in samples]\n",
    "train['Pred'] = y_pred"
   ]
  },
  {
   "cell_type": "code",
   "execution_count": 60,
   "metadata": {},
   "outputs": [
    {
     "data": {
      "text/plain": [
       "0.945054945054945"
      ]
     },
     "execution_count": 60,
     "metadata": {},
     "output_type": "execute_result"
    }
   ],
   "source": [
    "from sklearn.metrics import accuracy_score\n",
    "\n",
    "accuracy_score(train['Label'], train['Pred'])"
   ]
  },
  {
   "cell_type": "code",
   "execution_count": null,
   "metadata": {},
   "outputs": [],
   "source": []
  }
 ],
 "metadata": {
  "interpreter": {
   "hash": "e7569a15529fdc1b1c42469f30affc08eb6a35198f139c12d15ddfa133a45a66"
  },
  "kernelspec": {
   "display_name": "Python 3.9.2 64-bit",
   "language": "python",
   "name": "python3"
  },
  "language_info": {
   "codemirror_mode": {
    "name": "ipython",
    "version": 3
   },
   "file_extension": ".py",
   "mimetype": "text/x-python",
   "name": "python",
   "nbconvert_exporter": "python",
   "pygments_lexer": "ipython3",
   "version": "3.9.2"
  },
  "orig_nbformat": 4
 },
 "nbformat": 4,
 "nbformat_minor": 2
}
