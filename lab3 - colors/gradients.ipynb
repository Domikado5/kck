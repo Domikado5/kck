{
 "cells": [
  {
   "cell_type": "code",
   "execution_count": 1,
   "metadata": {},
   "outputs": [],
   "source": [
    "import matplotlib\n",
    "import matplotlib.pyplot as plt\n",
    "from matplotlib import rc\n",
    "import numpy as np\n",
    "from matplotlib import colors"
   ]
  },
  {
   "cell_type": "code",
   "execution_count": 127,
   "metadata": {},
   "outputs": [],
   "source": [
    "#konwerter: nie trzeba implementować samemu, można wykorzystać funkcję z bilbioteki\n",
    "def hsv2rgb(h, s, v):\n",
    "    return colors.hsv_to_rgb(np.array([h, s, v])/255)\n",
    "\n",
    "# poniżej znajdują się funkcje modelujące kolejne gradienty z zadania.\n",
    "# v to pozycja na osi ox: v jest od 0 do 1. Zewnetrzna funkcja wywołuje te metody podając\n",
    "# różne v i oczekując trójki RGB bądź HSV reprezentującej kolor. Np. (0,0,0) w RGB to kolor czarny. \n",
    "# Należy uwikłać v w funkcję modelującą kolor. W tym celu dla kolejnych gradientów trzeba przyjąć \n",
    "# sobie jakieś punkty charakterystyczne,\n",
    "# np. widzimy, że po lewej stronie (dla v = 0) powinien być kolor zielony a w środku niebieski (dla v = 0.5),\n",
    "# a wszystkie punkty pomiędzy należy interpolować liniowo (proporcjonalnie). \n",
    "\n",
    "def gradient_rgb_bw(v):\n",
    "    return (v, v, v)\n",
    "\n",
    "\n",
    "def gradient_rgb_gbr(v):\n",
    "    # (0, 1, 0) -> (0, 0, 1) -> (1, 0, 0)\n",
    "    red = 0\n",
    "    green = 0\n",
    "    blue = 0\n",
    "    if v < 0.5:\n",
    "        green = 1-2*v\n",
    "        blue = 2*v\n",
    "    else:\n",
    "        blue = 2*(1-v)\n",
    "        red = 2*(v-0.5)\n",
    "    return (red, green, blue)\n",
    "\n",
    "\n",
    "def gradient_rgb_gbr_full(v):\n",
    "    # (0, 1, 0) -> (0, 1, 1) -> (0, 0, 1) -> (1, 0, 1) -> (1, 0, 0)\n",
    "    red = 0\n",
    "    green = 0\n",
    "    blue = 0\n",
    "    if v < 0.25:\n",
    "        green = 1\n",
    "        blue = 4*v\n",
    "    elif v < 0.5:\n",
    "        blue = 1\n",
    "        green = 1-4*(v-0.25)\n",
    "    elif v < 0.75:\n",
    "        blue = 1\n",
    "        red = 4*(v-0.5)\n",
    "    else:\n",
    "        red = 1\n",
    "        blue = 1 - 4*(v-0.75)\n",
    "    \n",
    "    return (red, green, blue)\n",
    "\n",
    "\n",
    "def gradient_rgb_wb_custom(v):\n",
    "    #TODO\n",
    "    return (0, 0, 0)\n",
    "\n",
    "\n",
    "def gradient_hsv_bw(v):\n",
    "    #TODO\n",
    "    return hsv2rgb(0, 0, 0)\n",
    "\n",
    "\n",
    "def gradient_hsv_gbr(v):\n",
    "    #TODO\n",
    "    return hsv2rgb(0, 0, 0)\n",
    "\n",
    "def gradient_hsv_unknown(v):\n",
    "    #TODO\n",
    "    return hsv2rgb(0, 0, 0)\n",
    "\n",
    "\n",
    "def gradient_hsv_custom(v):\n",
    "    #TODO\n",
    "    return hsv2rgb(0, 0, 0)"
   ]
  },
  {
   "cell_type": "code",
   "execution_count": 128,
   "metadata": {},
   "outputs": [],
   "source": [
    "def plot_color_gradients(gradients, names):\n",
    "    # For pretty latex fonts (commented out, because it does not work on some machines)\n",
    "    #rc('text', usetex=True) \n",
    "    #rc('font', family='serif', serif=['Times'], size=10)\n",
    "    rc('legend', fontsize=10)\n",
    "\n",
    "    column_width_pt = 400         # Show in latex using \\the\\linewidth\n",
    "    pt_per_inch = 72\n",
    "    size = column_width_pt / pt_per_inch\n",
    "\n",
    "    fig, axes = plt.subplots(nrows=len(gradients), sharex=True, figsize=(size, 0.75 * size))\n",
    "    fig.subplots_adjust(top=1.00, bottom=0.05, left=0.25, right=0.95)\n",
    "\n",
    "\n",
    "    for ax, gradient, name in zip(axes, gradients, names):\n",
    "        # Create image with two lines and draw gradient on it\n",
    "        img = np.zeros((2, 1024, 3))\n",
    "        for i, v in enumerate(np.linspace(0, 1, 1024)):\n",
    "            img[:, i] = gradient(v)\n",
    "\n",
    "        im = ax.imshow(img, aspect='auto')\n",
    "        im.set_extent([0, 1, 0, 1])\n",
    "        ax.yaxis.set_visible(False)\n",
    "\n",
    "        pos = list(ax.get_position().bounds)\n",
    "        x_text = pos[0] - 0.25\n",
    "        y_text = pos[1] + pos[3]/2.\n",
    "        fig.text(x_text, y_text, name, va='center', ha='left', fontsize=10)\n",
    "\n",
    "    fig.savefig('my-gradients.pdf')"
   ]
  },
  {
   "cell_type": "code",
   "execution_count": 129,
   "metadata": {},
   "outputs": [
    {
     "data": {
      "image/png": "[encoded data removed]",
      "text/plain": [
       "<Figure size 400x300 with 8 Axes>"
      ]
     },
     "metadata": {
      "needs_background": "light"
     },
     "output_type": "display_data"
    }
   ],
   "source": [
    "def toname(g):\n",
    "    return g.__name__.replace('gradient_', '').replace('_', '-').upper()\n",
    "    \n",
    "gradients = (gradient_rgb_bw, gradient_rgb_gbr, gradient_rgb_gbr_full, gradient_rgb_wb_custom,\n",
    "                 gradient_hsv_bw, gradient_hsv_gbr, gradient_hsv_unknown, gradient_hsv_custom)\n",
    "\n",
    "plot_color_gradients(gradients, [toname(g) for g in gradients])"
   ]
  },
  {
   "cell_type": "code",
   "execution_count": null,
   "metadata": {},
   "outputs": [],
   "source": []
  }
 ],
 "metadata": {
  "kernelspec": {
   "display_name": "Python 3",
   "language": "python",
   "name": "python3"
  },
  "language_info": {
   "codemirror_mode": {
    "name": "ipython",
    "version": 3
   },
   "file_extension": ".py",
   "mimetype": "text/x-python",
   "name": "python",
   "nbconvert_exporter": "python",
   "pygments_lexer": "ipython3",
   "version": "3.7.1"
  }
 },
 "nbformat": 4,
 "nbformat_minor": 2
}
